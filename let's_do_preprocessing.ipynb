{
 "cells": [
  {
   "cell_type": "code",
   "execution_count": 1,
   "metadata": {},
   "outputs": [
    {
     "data": {
      "text/plain": [
       "'\\n前処理とは？\\nそれでは、この「前処理」とは一体どのような作業を指すのでしょうか？\\n簡単にいうと、「データをモデルに入力させやすい形に変形すること」です。\\n通常はそのままでは機械学習モデルに入力させることは困難なものがほとんどです。\\n\\n具体的には、数値データの場合、明らかに傾向からずれるもの(外れ値)、あるいは、\\n本来値が入っていないとおかしい所にデータが存在しないことがある(これを欠損値という)を\\n除外する処理や、文字列になっているものを数値になおす処理、\\n特徴量を0から1の範囲で標準化するといった処理が考えられます。\\n\\n例えば、これから取り扱っていただくSIGNATEの銀行のデータでは、\\n顧客の属性を説明変数としますが、属性のうち、結婚や教育の度合いなどで、\\n一部文字列になっている箇所があるので、これを数値に変換する必要があります。\\n\\n\\n'"
      ]
     },
     "execution_count": 1,
     "metadata": {},
     "output_type": "execute_result"
    }
   ],
   "source": [
    "\"\"\"\n",
    "前処理とは？\n",
    "それでは、この「前処理」とは一体どのような作業を指すのでしょうか？\n",
    "簡単にいうと、「データをモデルに入力させやすい形に変形すること」です。\n",
    "通常はそのままでは機械学習モデルに入力させることは困難なものがほとんどです。\n",
    "\n",
    "具体的には、数値データの場合、明らかに傾向からずれるもの(外れ値)、あるいは、\n",
    "本来値が入っていないとおかしい所にデータが存在しないことがある(これを欠損値という)を\n",
    "除外する処理や、文字列になっているものを数値になおす処理、\n",
    "特徴量を0から1の範囲で標準化するといった処理が考えられます。\n",
    "\n",
    "例えば、これから取り扱っていただくSIGNATEの銀行のデータでは、\n",
    "顧客の属性を説明変数としますが、属性のうち、結婚や教育の度合いなどで、\n",
    "一部文字列になっている箇所があるので、これを数値に変換する必要があります。\n",
    "\n",
    "\n",
    "\"\"\""
   ]
  },
  {
   "cell_type": "code",
   "execution_count": 2,
   "metadata": {},
   "outputs": [
    {
     "data": {
      "text/html": [
       "<div>\n",
       "<style>\n",
       "    .dataframe thead tr:only-child th {\n",
       "        text-align: right;\n",
       "    }\n",
       "\n",
       "    .dataframe thead th {\n",
       "        text-align: left;\n",
       "    }\n",
       "\n",
       "    .dataframe tbody tr th {\n",
       "        vertical-align: top;\n",
       "    }\n",
       "</style>\n",
       "<table border=\"1\" class=\"dataframe\">\n",
       "  <thead>\n",
       "    <tr style=\"text-align: right;\">\n",
       "      <th></th>\n",
       "      <th>職業</th>\n",
       "    </tr>\n",
       "  </thead>\n",
       "  <tbody>\n",
       "    <tr>\n",
       "      <th>0</th>\n",
       "      <td>教師</td>\n",
       "    </tr>\n",
       "    <tr>\n",
       "      <th>1</th>\n",
       "      <td>プログラマー</td>\n",
       "    </tr>\n",
       "    <tr>\n",
       "      <th>2</th>\n",
       "      <td>公務員</td>\n",
       "    </tr>\n",
       "  </tbody>\n",
       "</table>\n",
       "</div>"
      ],
      "text/plain": [
       "       職業\n",
       "0      教師\n",
       "1  プログラマー\n",
       "2     公務員"
      ]
     },
     "execution_count": 2,
     "metadata": {},
     "output_type": "execute_result"
    }
   ],
   "source": [
    "import pandas as pd\n",
    "# 元データ。要素として文字列が含まれている\n",
    "df1 = pd.DataFrame({'職業':['教師', 'プログラマー', '公務員']})\n",
    "df1"
   ]
  },
  {
   "cell_type": "code",
   "execution_count": 3,
   "metadata": {
    "collapsed": true
   },
   "outputs": [],
   "source": [
    "df1['職業'] = df1['職業'].str.replace('教師', '0')\n",
    "df1['職業'] = df1['職業'].str.replace('プログラマー', '1')\n",
    "df1['職業'] = df1['職業'].str.replace('公務員', '2')"
   ]
  },
  {
   "cell_type": "code",
   "execution_count": 4,
   "metadata": {
    "collapsed": true
   },
   "outputs": [],
   "source": [
    "df1['職業'] = df1['職業'].astype(float)\n"
   ]
  },
  {
   "cell_type": "code",
   "execution_count": 8,
   "metadata": {},
   "outputs": [
    {
     "name": "stdout",
     "output_type": "stream",
     "text": [
      "    職業\n",
      "0  0.0\n",
      "1  1.0\n",
      "2  2.0\n"
     ]
    },
    {
     "data": {
      "text/plain": [
       "NoneType"
      ]
     },
     "execution_count": 8,
     "metadata": {},
     "output_type": "execute_result"
    }
   ],
   "source": [
    "df1\n",
    "type(print(df1))"
   ]
  },
  {
   "cell_type": "code",
   "execution_count": 9,
   "metadata": {},
   "outputs": [
    {
     "data": {
      "text/plain": [
       "pandas.core.frame.DataFrame"
      ]
     },
     "execution_count": 9,
     "metadata": {},
     "output_type": "execute_result"
    }
   ],
   "source": [
    "type(df1)"
   ]
  },
  {
   "cell_type": "code",
   "execution_count": 6,
   "metadata": {},
   "outputs": [
    {
     "name": "stdout",
     "output_type": "stream",
     "text": [
      "       職業\n",
      "0      教師\n",
      "1     NaN\n",
      "2     NaN\n",
      "3  プログラマー\n"
     ]
    }
   ],
   "source": [
    "import numpy as np\n",
    "\n",
    "# 2番目と4番目のデータが欠損しているデータ\n",
    "df2 = pd.DataFrame({'職業':['教師', np.nan, np.nan, 'プログラマー']})\n",
    "print(df2)"
   ]
  },
  {
   "cell_type": "code",
   "execution_count": 7,
   "metadata": {
    "collapsed": true
   },
   "outputs": [],
   "source": [
    "df2 = df2.dropna(subset=['職業'])\n"
   ]
  },
  {
   "cell_type": "code",
   "execution_count": 8,
   "metadata": {},
   "outputs": [
    {
     "data": {
      "text/html": [
       "<div>\n",
       "<style>\n",
       "    .dataframe thead tr:only-child th {\n",
       "        text-align: right;\n",
       "    }\n",
       "\n",
       "    .dataframe thead th {\n",
       "        text-align: left;\n",
       "    }\n",
       "\n",
       "    .dataframe tbody tr th {\n",
       "        vertical-align: top;\n",
       "    }\n",
       "</style>\n",
       "<table border=\"1\" class=\"dataframe\">\n",
       "  <thead>\n",
       "    <tr style=\"text-align: right;\">\n",
       "      <th></th>\n",
       "      <th>職業</th>\n",
       "    </tr>\n",
       "  </thead>\n",
       "  <tbody>\n",
       "    <tr>\n",
       "      <th>0</th>\n",
       "      <td>教師</td>\n",
       "    </tr>\n",
       "    <tr>\n",
       "      <th>3</th>\n",
       "      <td>プログラマー</td>\n",
       "    </tr>\n",
       "  </tbody>\n",
       "</table>\n",
       "</div>"
      ],
      "text/plain": [
       "       職業\n",
       "0      教師\n",
       "3  プログラマー"
      ]
     },
     "execution_count": 8,
     "metadata": {},
     "output_type": "execute_result"
    }
   ],
   "source": [
    "df2"
   ]
  },
  {
   "cell_type": "code",
   "execution_count": null,
   "metadata": {
    "collapsed": true
   },
   "outputs": [],
   "source": []
  }
 ],
 "metadata": {
  "kernelspec": {
   "display_name": "Python 3",
   "language": "python",
   "name": "python3"
  },
  "language_info": {
   "codemirror_mode": {
    "name": "ipython",
    "version": 3
   },
   "file_extension": ".py",
   "mimetype": "text/x-python",
   "name": "python",
   "nbconvert_exporter": "python",
   "pygments_lexer": "ipython3",
   "version": "3.6.2"
  }
 },
 "nbformat": 4,
 "nbformat_minor": 2
}
