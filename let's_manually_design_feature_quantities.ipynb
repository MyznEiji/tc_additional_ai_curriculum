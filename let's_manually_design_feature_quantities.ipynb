{
 "cells": [
  {
   "cell_type": "code",
   "execution_count": 1,
   "metadata": {
    "collapsed": true
   },
   "outputs": [],
   "source": [
    "# 特徴量を手動で設計してみよう"
   ]
  },
  {
   "cell_type": "code",
   "execution_count": 2,
   "metadata": {
    "collapsed": true
   },
   "outputs": [],
   "source": [
    "import numpy as np\n",
    "import pandas as pd\n",
    "import matplotlib.pyplot as plt\n",
    "%matplotlib inline\n",
    "pokemon = pd.read_csv('https://raw.githubusercontent.com/we-b/datasets_for_ai/master/pokemonn.csv')\n"
   ]
  },
  {
   "cell_type": "code",
   "execution_count": 3,
   "metadata": {},
   "outputs": [
    {
     "data": {
      "text/html": [
       "<div>\n",
       "<style>\n",
       "    .dataframe thead tr:only-child th {\n",
       "        text-align: right;\n",
       "    }\n",
       "\n",
       "    .dataframe thead th {\n",
       "        text-align: left;\n",
       "    }\n",
       "\n",
       "    .dataframe tbody tr th {\n",
       "        vertical-align: top;\n",
       "    }\n",
       "</style>\n",
       "<table border=\"1\" class=\"dataframe\">\n",
       "  <thead>\n",
       "    <tr style=\"text-align: right;\">\n",
       "      <th></th>\n",
       "      <th>Name</th>\n",
       "      <th>Total</th>\n",
       "      <th>HP</th>\n",
       "      <th>Attack</th>\n",
       "      <th>Defense</th>\n",
       "      <th>Sp. Atk</th>\n",
       "      <th>Sp. Def</th>\n",
       "      <th>Speed</th>\n",
       "      <th>Legendary</th>\n",
       "    </tr>\n",
       "  </thead>\n",
       "  <tbody>\n",
       "    <tr>\n",
       "      <th>0</th>\n",
       "      <td>Bulbasaur</td>\n",
       "      <td>318</td>\n",
       "      <td>45</td>\n",
       "      <td>49</td>\n",
       "      <td>49</td>\n",
       "      <td>65</td>\n",
       "      <td>65</td>\n",
       "      <td>45</td>\n",
       "      <td>False</td>\n",
       "    </tr>\n",
       "    <tr>\n",
       "      <th>1</th>\n",
       "      <td>Ivysaur</td>\n",
       "      <td>405</td>\n",
       "      <td>60</td>\n",
       "      <td>62</td>\n",
       "      <td>63</td>\n",
       "      <td>80</td>\n",
       "      <td>80</td>\n",
       "      <td>60</td>\n",
       "      <td>False</td>\n",
       "    </tr>\n",
       "    <tr>\n",
       "      <th>2</th>\n",
       "      <td>Venusaur</td>\n",
       "      <td>525</td>\n",
       "      <td>80</td>\n",
       "      <td>82</td>\n",
       "      <td>83</td>\n",
       "      <td>100</td>\n",
       "      <td>100</td>\n",
       "      <td>80</td>\n",
       "      <td>False</td>\n",
       "    </tr>\n",
       "    <tr>\n",
       "      <th>3</th>\n",
       "      <td>Charmander</td>\n",
       "      <td>309</td>\n",
       "      <td>39</td>\n",
       "      <td>52</td>\n",
       "      <td>43</td>\n",
       "      <td>60</td>\n",
       "      <td>50</td>\n",
       "      <td>65</td>\n",
       "      <td>False</td>\n",
       "    </tr>\n",
       "    <tr>\n",
       "      <th>4</th>\n",
       "      <td>Charmeleon</td>\n",
       "      <td>405</td>\n",
       "      <td>58</td>\n",
       "      <td>64</td>\n",
       "      <td>58</td>\n",
       "      <td>80</td>\n",
       "      <td>65</td>\n",
       "      <td>80</td>\n",
       "      <td>False</td>\n",
       "    </tr>\n",
       "  </tbody>\n",
       "</table>\n",
       "</div>"
      ],
      "text/plain": [
       "         Name Total  HP  Attack  Defense  Sp. Atk  Sp. Def  Speed  Legendary\n",
       "0   Bulbasaur   318  45      49       49       65       65     45      False\n",
       "1     Ivysaur   405  60      62       63       80       80     60      False\n",
       "2    Venusaur   525  80      82       83      100      100     80      False\n",
       "3  Charmander   309  39      52       43       60       50     65      False\n",
       "4  Charmeleon   405  58      64       58       80       65     80      False"
      ]
     },
     "execution_count": 3,
     "metadata": {},
     "output_type": "execute_result"
    }
   ],
   "source": [
    "pokemon.head()\n"
   ]
  },
  {
   "cell_type": "code",
   "execution_count": 4,
   "metadata": {},
   "outputs": [
    {
     "data": {
      "text/plain": [
       "(212, 9)"
      ]
     },
     "execution_count": 4,
     "metadata": {},
     "output_type": "execute_result"
    }
   ],
   "source": [
    "pokemon.shape"
   ]
  },
  {
   "cell_type": "code",
   "execution_count": 5,
   "metadata": {
    "collapsed": true
   },
   "outputs": [],
   "source": [
    "X0 = pokemon['HP']\n",
    "X1 = pokemon['Attack']\n",
    "X2 = pokemon['Defense']\n",
    "X3 = pokemon['Sp. Atk']\n",
    "X4 = pokemon['Sp. Def']\n",
    "X5 = pokemon['Speed']"
   ]
  },
  {
   "cell_type": "code",
   "execution_count": 6,
   "metadata": {},
   "outputs": [
    {
     "data": {
      "text/plain": [
       "'\\n補足 ddof = Delta Degrees of Freedom \\n\\n1点 覚えておくべき箇所は、pandas では分散 / 標準偏差について不偏推定量の計算が\\nデフォルトになっている。これは numpy の挙動 ( 標本統計量を返す ) とは異なる。\\nこの挙動は pandas, numpy ともに ddof オプションで制御できる。\\n\\npandas : 不偏推定量の計算 ( ddof=True ) がデフォルト。\\nnumpy : 標本統計量の計算 ( ddof=False ) がデフォルト。\\n'"
      ]
     },
     "execution_count": 6,
     "metadata": {},
     "output_type": "execute_result"
    }
   ],
   "source": [
    "\"\"\"\n",
    "補足 ddof = Delta Degrees of Freedom \n",
    "\n",
    "1点 覚えておくべき箇所は、pandas では分散 / 標準偏差について不偏推定量の計算が\n",
    "デフォルトになっている。これは numpy の挙動 ( 標本統計量を返す ) とは異なる。\n",
    "この挙動は pandas, numpy ともに ddof オプションで制御できる。\n",
    "\n",
    "pandas : 不偏推定量の計算 ( ddof=True ) がデフォルト。\n",
    "numpy : 標本統計量の計算 ( ddof=False ) がデフォルト。\n",
    "\"\"\"\n",
    "\n"
   ]
  },
  {
   "cell_type": "code",
   "execution_count": 7,
   "metadata": {
    "collapsed": true
   },
   "outputs": [],
   "source": [
    "# ポケモンの各種族値の偏差値を求めてみよう"
   ]
  },
  {
   "cell_type": "code",
   "execution_count": 8,
   "metadata": {
    "collapsed": true
   },
   "outputs": [],
   "source": [
    "W0 = ((X0 - X0.mean()) / X0.std(ddof=0)  * 10  + 50 )\n",
    "W1 = ((X1 - X1.mean()) / X1.std(ddof=0)  * 10  + 50 )\n",
    "W2 = ((X2 - X2.mean()) / X2.std(ddof=0)  * 10  + 50 )\n",
    "W3 = ((X3 - X3.mean()) / X3.std(ddof=0)  * 10  + 50 )\n",
    "W4 = ((X4 - X4.mean()) / X4.std(ddof=0)  * 10  + 50 )\n",
    "W5 = ((X5 - X5.mean()) / X5.std(ddof=0)  * 10  + 50 )"
   ]
  },
  {
   "cell_type": "code",
   "execution_count": 9,
   "metadata": {},
   "outputs": [
    {
     "data": {
      "text/plain": [
       "'\\n特徴量を追加しよう\\n複数の要素を追加して新たな一つの配列とする方法には、\\nNUMPYメソッドのvstackが有効です。\\n\\n\\n'"
      ]
     },
     "execution_count": 9,
     "metadata": {},
     "output_type": "execute_result"
    }
   ],
   "source": [
    "\"\"\"\n",
    "特徴量を追加しよう\n",
    "複数の要素を追加して新たな一つの配列とする方法には、\n",
    "NUMPYメソッドのvstackが有効です。\n",
    "\n",
    "\n",
    "\"\"\""
   ]
  },
  {
   "cell_type": "code",
   "execution_count": 10,
   "metadata": {
    "collapsed": true
   },
   "outputs": [],
   "source": [
    "X_new = np.vstack([X0, X1, X2,X3,X4,X5, W0, W1, W2, W3, W4, W5])"
   ]
  },
  {
   "cell_type": "code",
   "execution_count": 11,
   "metadata": {},
   "outputs": [
    {
     "data": {
      "text/plain": [
       "array([[  45.        ,   60.        ,   80.        , ...,   80.        ,\n",
       "          80.        ,   80.        ],\n",
       "       [  49.        ,   62.        ,   82.        , ...,  110.        ,\n",
       "         160.        ,  110.        ],\n",
       "       [  49.        ,   63.        ,   83.        , ...,   60.        ,\n",
       "          60.        ,  120.        ],\n",
       "       ..., \n",
       "       [  45.33479839,   49.23780842,   54.44182179, ...,   67.45185521,\n",
       "          72.65586858,   62.24784184],\n",
       "       [  45.98406903,   50.74036716,   57.082098  , ...,   66.59469427,\n",
       "          66.59469427,   53.91123258],\n",
       "       [  38.77076368,   43.8895956 ,   50.71470483, ...,   47.30215022,\n",
       "          50.71470483,   47.30215022]])"
      ]
     },
     "execution_count": 11,
     "metadata": {},
     "output_type": "execute_result"
    }
   ],
   "source": [
    "X_new"
   ]
  },
  {
   "cell_type": "code",
   "execution_count": 12,
   "metadata": {},
   "outputs": [
    {
     "data": {
      "text/plain": [
       "(12, 212)"
      ]
     },
     "execution_count": 12,
     "metadata": {},
     "output_type": "execute_result"
    }
   ],
   "source": [
    "X_new.shape"
   ]
  },
  {
   "cell_type": "code",
   "execution_count": 13,
   "metadata": {},
   "outputs": [
    {
     "data": {
      "text/plain": [
       "(212, 12)"
      ]
     },
     "execution_count": 13,
     "metadata": {},
     "output_type": "execute_result"
    }
   ],
   "source": [
    "X_new = X_new.T\n",
    "X_new.shape"
   ]
  },
  {
   "cell_type": "code",
   "execution_count": 14,
   "metadata": {},
   "outputs": [
    {
     "name": "stderr",
     "output_type": "stream",
     "text": [
      "/root/.pyenv/versions/anaconda3-5.0.0/lib/python3.6/site-packages/sklearn/cross_validation.py:41: DeprecationWarning: This module was deprecated in version 0.18 in favor of the model_selection module into which all the refactored classes and functions are moved. Also note that the interface of the new CV iterators are different from that of this module. This module will be removed in 0.20.\n",
      "  \"This module will be removed in 0.20.\", DeprecationWarning)\n"
     ]
    }
   ],
   "source": [
    "\n",
    "from sklearn.feature_selection import SelectPercentile\n",
    "from sklearn.cross_validation import train_test_split"
   ]
  },
  {
   "cell_type": "code",
   "execution_count": 15,
   "metadata": {},
   "outputs": [
    {
     "data": {
      "text/plain": [
       "'\\n既存の説明変数同士を作用させて、新たな特徴量にしよう\\n互いに関連性のありそうな説明変数同士を組み合わせて新たな特徴量とすることによって、\\nデータの表現能力を高めることが可能です。\\n\\n\\n\\n'"
      ]
     },
     "execution_count": 15,
     "metadata": {},
     "output_type": "execute_result"
    }
   ],
   "source": [
    "\"\"\"\n",
    "既存の説明変数同士を作用させて、新たな特徴量にしよう\n",
    "互いに関連性のありそうな説明変数同士を組み合わせて新たな特徴量とすることによって、\n",
    "データの表現能力を高めることが可能です。\n",
    "\n",
    "\n",
    "\n",
    "\"\"\""
   ]
  },
  {
   "cell_type": "code",
   "execution_count": 16,
   "metadata": {
    "collapsed": true
   },
   "outputs": [],
   "source": [
    "A1 = X1*X3\n",
    "A2 = X3*X4\n",
    "A3 = X3*X5\n",
    "A4 = X1*X5"
   ]
  },
  {
   "cell_type": "code",
   "execution_count": 17,
   "metadata": {},
   "outputs": [
    {
     "data": {
      "text/plain": [
       "array([[    45.,     49.,     49., ...,   4225.,   2925.,   2205.],\n",
       "       [    60.,     62.,     63., ...,   6400.,   4800.,   3720.],\n",
       "       [    80.,     82.,     83., ...,  10000.,   8000.,   6560.],\n",
       "       ..., \n",
       "       [    80.,    110.,     60., ...,  19500.,  10500.,   7700.],\n",
       "       [    80.,    160.,     60., ...,  22100.,  13600.,  12800.],\n",
       "       [    80.,    110.,    120., ...,  11700.,   9100.,   7700.]])"
      ]
     },
     "execution_count": 17,
     "metadata": {},
     "output_type": "execute_result"
    }
   ],
   "source": [
    "X_new = np.vstack([X0, X1, X2, X3, X4, X5, W0, W1, W2, W3, W4, W5, A1, A2, A3, A4])\n",
    "X_new = X_new.T\n",
    "# X_new = X_new.reshape(151, 16)#(reshapeメソッドを使用する場合)\n",
    "X_new"
   ]
  },
  {
   "cell_type": "code",
   "execution_count": 18,
   "metadata": {},
   "outputs": [
    {
     "data": {
      "text/plain": [
       "(212, 16)"
      ]
     },
     "execution_count": 18,
     "metadata": {},
     "output_type": "execute_result"
    }
   ],
   "source": [
    "X_new.shape"
   ]
  },
  {
   "cell_type": "code",
   "execution_count": 19,
   "metadata": {},
   "outputs": [
    {
     "data": {
      "text/plain": [
       "'\\n説明変数の標準化を行おう\\n機械学習の精度を向上させるためには、このようにスケールの統一されていない\\n変数を全て同一のスケールに変換することが必要です。\\n\\nそのために行う作業が、「標準化」と呼ばれる作業です。\\n\\n\\n'"
      ]
     },
     "execution_count": 19,
     "metadata": {},
     "output_type": "execute_result"
    }
   ],
   "source": [
    "\"\"\"\n",
    "説明変数の標準化を行おう\n",
    "機械学習の精度を向上させるためには、このようにスケールの統一されていない\n",
    "変数を全て同一のスケールに変換することが必要です。\n",
    "\n",
    "そのために行う作業が、「標準化」と呼ばれる作業です。\n",
    "\n",
    "\n",
    "\"\"\""
   ]
  },
  {
   "cell_type": "code",
   "execution_count": 20,
   "metadata": {
    "collapsed": true
   },
   "outputs": [],
   "source": [
    "def zscore(x):\n",
    "    xmean = x.mean()\n",
    "    xstd = np.std(x)\n",
    "    \n",
    "    zscore = (x-xmean )/xstd\n",
    "    return zscore"
   ]
  },
  {
   "cell_type": "code",
   "execution_count": 21,
   "metadata": {
    "collapsed": true
   },
   "outputs": [],
   "source": [
    "X0 = zscore(X0)\n",
    "X1 = zscore(X1)\n",
    "X2 = zscore(X2)\n",
    "X3 = zscore(X3)\n",
    "X4 = zscore(X4)\n",
    "X5 = zscore(X5)\n",
    "W0 = zscore(W0)\n",
    "W1 = zscore(W1)\n",
    "W2 = zscore(W2)\n",
    "W3 = zscore(W3)\n",
    "W4 = zscore(W4)\n",
    "W5 = zscore(W5)\n",
    "A1 = zscore(A1)\n",
    "A2 = zscore(A2)\n",
    "A3 = zscore(A3)\n",
    "A4 = zscore(A4)"
   ]
  },
  {
   "cell_type": "code",
   "execution_count": 22,
   "metadata": {},
   "outputs": [
    {
     "data": {
      "text/plain": [
       "array([[-0.92056892, -1.06099165, -0.91690156, ..., -0.55987473,\n",
       "        -0.80997902, -1.04482964],\n",
       "       [-0.41653842, -0.68446667, -0.4653728 , ..., -0.13849027,\n",
       "        -0.44570771, -0.72239405],\n",
       "       [ 0.25550226, -0.10519747,  0.17966828, ...,  0.55897366,\n",
       "         0.17598199, -0.11796035],\n",
       "       ..., \n",
       "       [ 0.25550226,  0.70577941, -0.56212897, ...,  2.39950348,\n",
       "         0.66167707,  0.12466445],\n",
       "       [ 0.25550226,  2.15395241, -0.56212897, ...,  2.90322744,\n",
       "         1.26393897,  1.21009118],\n",
       "       [ 0.25550226,  0.70577941,  1.37299429, ...,  0.88833163,\n",
       "         0.38968783,  0.12466445]])"
      ]
     },
     "execution_count": 22,
     "metadata": {},
     "output_type": "execute_result"
    }
   ],
   "source": [
    "X_new = np.vstack([X0, X1, X2, X3, X4, X5, W0, W1, W2, W3, W4, W5, A1, A2, A3, A4])\n",
    "X_new = X_new.T\n",
    "X_new"
   ]
  },
  {
   "cell_type": "code",
   "execution_count": 23,
   "metadata": {},
   "outputs": [
    {
     "data": {
      "text/plain": [
       "(212, 16)"
      ]
     },
     "execution_count": 23,
     "metadata": {},
     "output_type": "execute_result"
    }
   ],
   "source": [
    "X_new.shape\n"
   ]
  },
  {
   "cell_type": "code",
   "execution_count": 24,
   "metadata": {},
   "outputs": [
    {
     "data": {
      "text/plain": [
       "'\\n重要な特徴量のみを抽出しよう\\n\\nこのまま分析を行ってもいいのですが、説明変数の個数が非常に多いと、\\nモデルの形が非常に複雑になり、過学習のリスクが高まります。\\n\\nモデルの汎化能力を高めるといった意味で、\\n特徴量の個数はなるべく減らした方が分析には都合がいいです。\\n\\nそのため、目的変数の予測、分類に高い影響を与えている特徴量のみを選択する、\\n「自動特徴量選択」を行うことが求められています。\\n\\n\\n'"
      ]
     },
     "execution_count": 24,
     "metadata": {},
     "output_type": "execute_result"
    }
   ],
   "source": [
    "\"\"\"\n",
    "重要な特徴量のみを抽出しよう\n",
    "\n",
    "このまま分析を行ってもいいのですが、説明変数の個数が非常に多いと、\n",
    "モデルの形が非常に複雑になり、過学習のリスクが高まります。\n",
    "\n",
    "モデルの汎化能力を高めるといった意味で、\n",
    "特徴量の個数はなるべく減らした方が分析には都合がいいです。\n",
    "\n",
    "そのため、目的変数の予測、分類に高い影響を与えている特徴量のみを選択する、\n",
    "「自動特徴量選択」を行うことが求められています。\n",
    "\n",
    "\n",
    "\"\"\"\n"
   ]
  },
  {
   "cell_type": "code",
   "execution_count": 25,
   "metadata": {
    "collapsed": true
   },
   "outputs": [],
   "source": [
    "from sklearn.feature_selection import SelectPercentile\n",
    "from sklearn.cross_validation import train_test_split"
   ]
  },
  {
   "cell_type": "code",
   "execution_count": 26,
   "metadata": {},
   "outputs": [
    {
     "data": {
      "text/plain": [
       "0      False\n",
       "1      False\n",
       "2      False\n",
       "3      False\n",
       "4      False\n",
       "5      False\n",
       "6      False\n",
       "7      False\n",
       "8      False\n",
       "9      False\n",
       "10     False\n",
       "11     False\n",
       "12     False\n",
       "13     False\n",
       "14     False\n",
       "15     False\n",
       "16     False\n",
       "17     False\n",
       "18     False\n",
       "19     False\n",
       "20     False\n",
       "21     False\n",
       "22     False\n",
       "23     False\n",
       "24     False\n",
       "25     False\n",
       "26     False\n",
       "27     False\n",
       "28     False\n",
       "29     False\n",
       "       ...  \n",
       "182     True\n",
       "183     True\n",
       "184     True\n",
       "185     True\n",
       "186     True\n",
       "187     True\n",
       "188     True\n",
       "189     True\n",
       "190     True\n",
       "191     True\n",
       "192     True\n",
       "193     True\n",
       "194     True\n",
       "195     True\n",
       "196     True\n",
       "197     True\n",
       "198     True\n",
       "199     True\n",
       "200     True\n",
       "201     True\n",
       "202     True\n",
       "203     True\n",
       "204     True\n",
       "205     True\n",
       "206     True\n",
       "207     True\n",
       "208     True\n",
       "209     True\n",
       "210     True\n",
       "211     True\n",
       "Name: Legendary, Length: 212, dtype: bool"
      ]
     },
     "execution_count": 26,
     "metadata": {},
     "output_type": "execute_result"
    }
   ],
   "source": [
    "pokemon.target = pokemon['Legendary']\n",
    "pokemon.target "
   ]
  },
  {
   "cell_type": "code",
   "execution_count": 27,
   "metadata": {
    "collapsed": true
   },
   "outputs": [],
   "source": [
    "X_train, X_test, y_train, y_test = train_test_split(X_new, pokemon.target, test_size=.3)"
   ]
  },
  {
   "cell_type": "code",
   "execution_count": 28,
   "metadata": {
    "collapsed": true
   },
   "outputs": [],
   "source": [
    "# こちらのコードで、SelectPercentileは、\n",
    "# 特徴量の個数を指定された割合で減少させる作用があります。\n",
    "# 今回では(percentile=50)と指定しているので、\n",
    "# 特徴量の個数は半分減少することになります。\n",
    "\n",
    "select = SelectPercentile(percentile=50)"
   ]
  },
  {
   "cell_type": "code",
   "execution_count": 29,
   "metadata": {},
   "outputs": [
    {
     "data": {
      "text/plain": [
       "SelectPercentile(percentile=50,\n",
       "         score_func=<function f_classif at 0x7f7bd1a022f0>)"
      ]
     },
     "execution_count": 29,
     "metadata": {},
     "output_type": "execute_result"
    }
   ],
   "source": [
    "select"
   ]
  },
  {
   "cell_type": "code",
   "execution_count": 30,
   "metadata": {},
   "outputs": [
    {
     "data": {
      "text/plain": [
       "SelectPercentile(percentile=50,\n",
       "         score_func=<function f_classif at 0x7f7bd1a022f0>)"
      ]
     },
     "execution_count": 30,
     "metadata": {},
     "output_type": "execute_result"
    }
   ],
   "source": [
    "select.fit(X_train, y_train)\n"
   ]
  },
  {
   "cell_type": "code",
   "execution_count": 31,
   "metadata": {
    "collapsed": true
   },
   "outputs": [],
   "source": [
    "X_train_selected = select.transform(X_train)\n"
   ]
  },
  {
   "cell_type": "code",
   "execution_count": 32,
   "metadata": {},
   "outputs": [
    {
     "name": "stdout",
     "output_type": "stream",
     "text": [
      "X_train.shape: (148, 16)\n"
     ]
    }
   ],
   "source": [
    "print(\"X_train.shape: {}\".format(X_train.shape))\n"
   ]
  },
  {
   "cell_type": "code",
   "execution_count": 33,
   "metadata": {},
   "outputs": [
    {
     "name": "stdout",
     "output_type": "stream",
     "text": [
      "X_train_selected.shape: (148, 8)\n"
     ]
    }
   ],
   "source": [
    "print(\"X_train_selected.shape: {}\".format(X_train_selected.shape))\n"
   ]
  },
  {
   "cell_type": "code",
   "execution_count": 34,
   "metadata": {},
   "outputs": [
    {
     "data": {
      "text/plain": [
       "'\\n次に、maskメソッドを使用することで、どの特徴量が採用されたかを可視化します。\\n\\n'"
      ]
     },
     "execution_count": 34,
     "metadata": {},
     "output_type": "execute_result"
    }
   ],
   "source": [
    "\"\"\"\n",
    "次に、maskメソッドを使用することで、どの特徴量が採用されたかを可視化します。\n",
    "\n",
    "\"\"\""
   ]
  },
  {
   "cell_type": "code",
   "execution_count": 35,
   "metadata": {},
   "outputs": [
    {
     "name": "stdout",
     "output_type": "stream",
     "text": [
      "[False False False  True  True False False False False  True  True False\n",
      "  True  True  True  True]\n"
     ]
    },
    {
     "data": {
      "text/plain": [
       "([], <a list of 0 Text yticklabel objects>)"
      ]
     },
     "execution_count": 35,
     "metadata": {},
     "output_type": "execute_result"
    },
    {
     "data": {
      "image/png": "[encoded data removed]",
      "text/plain": [
       "<matplotlib.figure.Figure at 0x7f7bd01fbd30>"
      ]
     },
     "metadata": {},
     "output_type": "display_data"
    }
   ],
   "source": [
    "mask = select.get_support()\n",
    "print(mask)\n",
    "\n",
    "plt.matshow(mask.reshape(1, -1), cmap='gray_r')\n",
    "plt.xlabel(\"index_of_feature\")\n",
    "plt.yticks(())"
   ]
  },
  {
   "cell_type": "code",
   "execution_count": 36,
   "metadata": {},
   "outputs": [
    {
     "data": {
      "text/plain": [
       "'\\nまずは、特徴量の個数を減らさなかった場合における、ロジスティック回帰を適用した\\n場合の正答率、混合行列の結果を求めます。\\n\\n\\n'"
      ]
     },
     "execution_count": 36,
     "metadata": {},
     "output_type": "execute_result"
    }
   ],
   "source": [
    "\"\"\"\n",
    "まずは、特徴量の個数を減らさなかった場合における、ロジスティック回帰を適用した\n",
    "場合の正答率、混合行列の結果を求めます。\n",
    "\n",
    "\n",
    "\"\"\""
   ]
  },
  {
   "cell_type": "code",
   "execution_count": 37,
   "metadata": {},
   "outputs": [
    {
     "name": "stdout",
     "output_type": "stream",
     "text": [
      "Score with all features: 1.000\n"
     ]
    }
   ],
   "source": [
    "from sklearn.linear_model import LogisticRegression\n",
    "X_test_selected = select.transform(X_test)\n",
    "\n",
    "lr = LogisticRegression()\n",
    "lr.fit(X_train, y_train)\n",
    "print(\"Score with all features: {:.3f}\".format(lr.score(X_test, y_test)))"
   ]
  },
  {
   "cell_type": "code",
   "execution_count": 38,
   "metadata": {},
   "outputs": [
    {
     "data": {
      "text/plain": [
       "array([[44,  0],\n",
       "       [ 0, 20]])"
      ]
     },
     "execution_count": 38,
     "metadata": {},
     "output_type": "execute_result"
    }
   ],
   "source": [
    "y_p = lr.predict(X_test)\n",
    "\n",
    "from sklearn.metrics import confusion_matrix\n",
    "confusion_matrix(y_test, y_p)"
   ]
  },
  {
   "cell_type": "code",
   "execution_count": 39,
   "metadata": {},
   "outputs": [
    {
     "name": "stdout",
     "output_type": "stream",
     "text": [
      "Score with only selected features: 0.938\n"
     ]
    }
   ],
   "source": [
    "# 同様に、特徴量の個数を減らした場合でも、\n",
    "# 同様にロジスティック回帰による正答率、混合行列の結果を確認します。\n",
    "\n",
    "lr.fit(X_train_selected, y_train)\n",
    "print(\"Score with only selected features: {:.3f}\".format(lr.score(X_test_selected, y_test)))"
   ]
  },
  {
   "cell_type": "code",
   "execution_count": 40,
   "metadata": {},
   "outputs": [
    {
     "data": {
      "text/plain": [
       "array([[43,  1],\n",
       "       [ 3, 17]])"
      ]
     },
     "execution_count": 40,
     "metadata": {},
     "output_type": "execute_result"
    }
   ],
   "source": [
    "y_p = lr.predict(X_test_selected)\n",
    "from sklearn.metrics import confusion_matrix\n",
    "confusion_matrix(y_test, y_p)"
   ]
  },
  {
   "cell_type": "code",
   "execution_count": null,
   "metadata": {
    "collapsed": true
   },
   "outputs": [],
   "source": []
  }
 ],
 "metadata": {
  "kernelspec": {
   "display_name": "Python 3",
   "language": "python",
   "name": "python3"
  },
  "language_info": {
   "codemirror_mode": {
    "name": "ipython",
    "version": 3
   },
   "file_extension": ".py",
   "mimetype": "text/x-python",
   "name": "python",
   "nbconvert_exporter": "python",
   "pygments_lexer": "ipython3",
   "version": "3.6.2"
  }
 },
 "nbformat": 4,
 "nbformat_minor": 2
}
